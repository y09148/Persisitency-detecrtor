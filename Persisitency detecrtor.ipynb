{
 "cells": [
  {
   "cell_type": "raw",
   "metadata": {},
   "source": [
    "Copyright 2020 Masaru Tatekawa, Chihiro Hosoda\n",
    "\n",
    "Licensed under the Apache License, Version 2.0 (the \"License\");\n",
    "you may not use this file except in compliance with the License.\n",
    "You may obtain a copy of the License at\n",
    "\n",
    "    http://www.apache.org/licenses/LICENSE-2.0\n",
    "\n",
    "Unless required by applicable law or agreed to in writing, software\n",
    "distributed under the License is distributed on an \"AS IS\" BASIS,\n",
    "WITHOUT WARRANTIES OR CONDITIONS OF ANY KIND, either express or implied.\n",
    "See the License for the specific language governing permissions and\n",
    "limitations under the License."
   ]
  },
  {
   "cell_type": "code",
   "execution_count": 1,
   "metadata": {},
   "outputs": [],
   "source": [
    "import numpy as np\n",
    "from pylab import *\n",
    "import pandas as pd"
   ]
  },
  {
   "cell_type": "code",
   "execution_count": 2,
   "metadata": {},
   "outputs": [],
   "source": [
    "def f(x,a,b):\n",
    "    return a*x+b"
   ]
  },
  {
   "cell_type": "code",
   "execution_count": 3,
   "metadata": {},
   "outputs": [],
   "source": [
    "def make_fisher(vois):\n",
    "    f_gm = vois[vois.fq==\"f\"].GM.values\n",
    "    f_fa = vois[vois.fq==\"f\"].FA.values\n",
    "    q_gm = vois[vois.fq==\"q\"].GM.values\n",
    "    q_fa = vois[vois.fq==\"q\"].FA.values\n",
    "\n",
    "    m_f=np.matrix((np.mean(f_gm),np.mean(f_fa))).reshape(2,1)\n",
    "    m_q=np.matrix((np.mean(q_gm),np.mean(q_fa))).reshape(2,1)\n",
    "\n",
    "    Sw = np.zeros((2,2))\n",
    "    for gm,fa in zip(f_gm,f_fa):\n",
    "        xn=matrix((gm,fa)).reshape(2,1)\n",
    "        Sw += (xn-m_f)*transpose(xn-m_f)\n",
    "    for gm,fa in zip(q_gm,q_fa):\n",
    "        xn=matrix((gm,fa)).reshape(2,1)\n",
    "        Sw += (xn-m_q)*transpose(xn-m_q)\n",
    "    Sw_inv = np.linalg.inv(Sw)\n",
    "    w=Sw_inv*(m_q-m_f)\n",
    "    a=-(w[0,0]/w[1,0])\n",
    "    m=(m_f+m_q)/2\n",
    "    b=-a*m[0,0]+m[1,0]\n",
    "\n",
    "    return a,b"
   ]
  },
  {
   "cell_type": "code",
   "execution_count": 4,
   "metadata": {},
   "outputs": [],
   "source": [
    "def F_measure(test_fa,pre_fa,test_fq):\n",
    "    TP=0\n",
    "    FN=0\n",
    "    FP=0\n",
    "    TN=0\n",
    "    for test,pre,fq in zip(test_fa,pre_fa,test_fq):\n",
    "        if test>pre:\n",
    "            if fq=='f':\n",
    "                TP+=1\n",
    "            else:\n",
    "                FP+=1\n",
    "        else:\n",
    "            if fq=='f':\n",
    "                FN+=1\n",
    "            else:\n",
    "                TN+=1\n",
    "    Accuracy=(TP+TN)/(TP+FP+FN+TN)\n",
    "    Precision=TP/(TP+FP)\n",
    "    Recall=TP/(TP+FN)\n",
    "    True_Negative_Rate=TN/(FP+TN)\n",
    "    False_Negative_Rate=FN/(TP+FN)\n",
    "    False_Positive_Rate=FP/(FP+TN)\n",
    "    \n",
    "    return Accuracy,Precision,Recall,True_Negative_Rate,False_Negative_Rate,False_Positive_Rate"
   ]
  },
  {
   "cell_type": "code",
   "execution_count": 5,
   "metadata": {},
   "outputs": [],
   "source": [
    "vois = pd.read_csv(\"VOI_ALL.csv\")"
   ]
  },
  {
   "cell_type": "code",
   "execution_count": null,
   "metadata": {},
   "outputs": [],
   "source": []
  },
  {
   "cell_type": "markdown",
   "metadata": {},
   "source": [
    "## Create a classifier from Hanoi data"
   ]
  },
  {
   "cell_type": "code",
   "execution_count": 6,
   "metadata": {},
   "outputs": [],
   "source": [
    "hanoi_vois=vois[vois.Hanoi==1]"
   ]
  },
  {
   "cell_type": "code",
   "execution_count": 7,
   "metadata": {},
   "outputs": [],
   "source": [
    "a,b=make_fisher(hanoi_vois)"
   ]
  },
  {
   "cell_type": "code",
   "execution_count": 8,
   "metadata": {},
   "outputs": [
    {
     "data": {
      "image/png": "[encoded data removed]",
      "text/plain": [
       "<Figure size 432x288 with 1 Axes>"
      ]
     },
     "metadata": {
      "needs_background": "light"
     },
     "output_type": "display_data"
    }
   ],
   "source": [
    "hanoi_f=[[gm,fa] for gm,fa in zip(\n",
    "    hanoi_vois[hanoi_vois.fq==\"f\"].GM.values,\n",
    "    hanoi_vois[hanoi_vois.fq==\"f\"].FA.values)]\n",
    "hanoi_q=[[gm,fa] for gm,fa in zip(\n",
    "    hanoi_vois[hanoi_vois.fq==\"q\"].GM.values,\n",
    "    hanoi_vois[hanoi_vois.fq==\"q\"].FA.values)]\n",
    "x1, x2 = np.transpose(np.array(hanoi_f))\n",
    "plot(x1,x2,'b^')\n",
    "x1, x2 = np.transpose(np.array(hanoi_q))\n",
    "plot(x1,x2,'rv')\n",
    "x1 = np.linspace(-2,6,1000)\n",
    "x2 = [f(x,a,b) for x in x1]\n",
    "plot(x1,x2,'g-')\n",
    "xlim(np.min(hanoi_vois.GM)-0.05,np.max(hanoi_vois.GM)+0.05)\n",
    "ylim(np.min(hanoi_vois.FA)-0.05,np.max(hanoi_vois.FA)+0.05)\n",
    "show()"
   ]
  },
  {
   "cell_type": "code",
   "execution_count": null,
   "metadata": {},
   "outputs": [],
   "source": []
  },
  {
   "cell_type": "markdown",
   "metadata": {},
   "source": [
    "## Predict L2L with the created classifier"
   ]
  },
  {
   "cell_type": "code",
   "execution_count": 9,
   "metadata": {},
   "outputs": [],
   "source": [
    "ltl_vois = vois[vois.L2L==1]"
   ]
  },
  {
   "cell_type": "code",
   "execution_count": 10,
   "metadata": {},
   "outputs": [],
   "source": [
    "l_f_gm = ltl_vois[ltl_vois.fq==\"f\"].GM.values\n",
    "l_f_fa = ltl_vois[ltl_vois.fq==\"f\"].FA.values\n",
    "l_q_gm = ltl_vois[ltl_vois.fq==\"q\"].GM.values\n",
    "l_q_fa = ltl_vois[ltl_vois.fq==\"q\"].FA.values\n",
    "ltl_f=[[gm,fa] for gm,fa in zip(l_f_gm,l_f_fa)]\n",
    "ltl_q=[[gm,fa] for gm,fa in zip(l_q_gm,l_q_fa)]"
   ]
  },
  {
   "cell_type": "code",
   "execution_count": 11,
   "metadata": {},
   "outputs": [
    {
     "data": {
      "image/png": "[encoded data removed]",
      "text/plain": [
       "<Figure size 432x288 with 1 Axes>"
      ]
     },
     "metadata": {
      "needs_background": "light"
     },
     "output_type": "display_data"
    }
   ],
   "source": [
    "x1, x2 = np.transpose(np.array(ltl_f))\n",
    "plot(x1,x2,'b^')\n",
    "x1, x2 = np.transpose(np.array(ltl_q))\n",
    "plot(x1,x2,'rv')\n",
    "x1 = np.linspace(-2,6,1000)\n",
    "x2 = [f(x,a,b) for x in x1]\n",
    "plot(x1,x2,'g-')\n",
    "xlim(np.min(ltl_vois.GM)-0.05,np.max(ltl_vois.GM)+0.05)\n",
    "ylim(np.min(ltl_vois.FA)-0.05,np.max(ltl_vois.FA)+0.05)\n",
    "show()"
   ]
  },
  {
   "cell_type": "code",
   "execution_count": 12,
   "metadata": {},
   "outputs": [],
   "source": [
    "ltl_pre_fa = list(map(lambda x:f(x,a,b) ,ltl_vois.GM.values))\n",
    "ltl_test_fa=list(ltl_vois.FA.values)\n",
    "ltl_test_fq=list(ltl_vois.fq.values)"
   ]
  },
  {
   "cell_type": "code",
   "execution_count": 13,
   "metadata": {},
   "outputs": [
    {
     "name": "stdout",
     "output_type": "stream",
     "text": [
      "L2L predict\n",
      "Accuracy:0.9302325581395349\n",
      "Precision:0.9166666666666666\n",
      "Recall:0.9565217391304348\n",
      "True_Negative_Rate:0.9\n",
      "False_Negative_Rate:0.043478260869565216\n",
      "False_Positive_Rate:0.1\n"
     ]
    }
   ],
   "source": [
    "print(\"L2L predict\")\n",
    "Accuracy,Precision,\\\n",
    "Recall,True_Negative_Rate,\\\n",
    "False_Negative_Rate,False_Positive_Rate=F_measure(ltl_test_fa,ltl_pre_fa,ltl_test_fq)\n",
    "print(\"Accuracy:{}\".format(Accuracy))\n",
    "print(\"Precision:{}\".format(Precision))\n",
    "print(\"Recall:{}\".format(Recall))\n",
    "print(\"True_Negative_Rate:{}\".format(True_Negative_Rate))\n",
    "print(\"False_Negative_Rate:{}\".format(False_Negative_Rate))\n",
    "print(\"False_Positive_Rate:{}\".format(False_Positive_Rate))"
   ]
  },
  {
   "cell_type": "code",
   "execution_count": null,
   "metadata": {},
   "outputs": [],
   "source": []
  },
  {
   "cell_type": "markdown",
   "metadata": {},
   "source": [
    "## Predict MOL with the created classifier"
   ]
  },
  {
   "cell_type": "code",
   "execution_count": 14,
   "metadata": {},
   "outputs": [],
   "source": [
    "mol_vois=vois[vois.MoL==1]"
   ]
  },
  {
   "cell_type": "code",
   "execution_count": 15,
   "metadata": {},
   "outputs": [],
   "source": [
    "m_f_gm = mol_vois[mol_vois.fq==\"f\"].GM.values\n",
    "m_f_fa = mol_vois[mol_vois.fq==\"f\"].FA.values\n",
    "m_q_gm = mol_vois[mol_vois.fq==\"q\"].GM.values\n",
    "m_q_fa = mol_vois[mol_vois.fq==\"q\"].FA.values\n",
    "mol_f=[[gm,fa] for gm,fa in zip(m_f_gm,m_f_fa)]\n",
    "mol_q=[[gm,fa] for gm,fa in zip(m_q_gm,m_q_fa)]"
   ]
  },
  {
   "cell_type": "code",
   "execution_count": 16,
   "metadata": {},
   "outputs": [
    {
     "data": {
      "image/png": "[encoded data removed]",
      "text/plain": [
       "<Figure size 432x288 with 1 Axes>"
      ]
     },
     "metadata": {
      "needs_background": "light"
     },
     "output_type": "display_data"
    }
   ],
   "source": [
    "x1, x2 = np.transpose(np.array(mol_f))\n",
    "plot(x1,x2,'b^')\n",
    "x1, x2 = np.transpose(np.array(mol_q))\n",
    "plot(x1,x2,'rv')\n",
    "x1 = np.linspace(-2,6,1000)\n",
    "x2 = [f(x,a,b) for x in x1]\n",
    "plot(x1,x2,'g-')\n",
    "xlim(np.min(mol_vois.GM)-0.05,np.max(mol_vois.GM)+0.05)\n",
    "ylim(np.min(mol_vois.FA)-0.05,np.max(mol_vois.FA)+0.05)\n",
    "show()"
   ]
  },
  {
   "cell_type": "code",
   "execution_count": 17,
   "metadata": {},
   "outputs": [],
   "source": [
    "mol_pre_fa=list(map(lambda x:f(x,a,b) ,mol_vois.GM.values))\n",
    "mol_test_fa=list(mol_vois.FA.values)\n",
    "mol_test_fq=list(mol_vois.fq.values)"
   ]
  },
  {
   "cell_type": "code",
   "execution_count": 18,
   "metadata": {},
   "outputs": [
    {
     "name": "stdout",
     "output_type": "stream",
     "text": [
      "MOL predict\n",
      "Accuracy:0.825\n",
      "Precision:0.8\n",
      "Recall:0.8421052631578947\n",
      "True_Negative_Rate:0.8095238095238095\n",
      "False_Negative_Rate:0.15789473684210525\n",
      "False_Positive_Rate:0.19047619047619047\n"
     ]
    }
   ],
   "source": [
    "print(\"MOL predict\")\n",
    "Accuracy,Precision,\\\n",
    "Recall,True_Negative_Rate,\\\n",
    "False_Negative_Rate,False_Positive_Rate=F_measure(mol_test_fa,mol_pre_fa,mol_test_fq)\n",
    "print(\"Accuracy:{}\".format(Accuracy))\n",
    "print(\"Precision:{}\".format(Precision))\n",
    "print(\"Recall:{}\".format(Recall))\n",
    "print(\"True_Negative_Rate:{}\".format(True_Negative_Rate))\n",
    "print(\"False_Negative_Rate:{}\".format(False_Negative_Rate))\n",
    "print(\"False_Positive_Rate:{}\".format(False_Positive_Rate))"
   ]
  },
  {
   "cell_type": "code",
   "execution_count": null,
   "metadata": {},
   "outputs": [],
   "source": []
  },
  {
   "cell_type": "markdown",
   "metadata": {},
   "source": [
    "## Predict MOL(post - Short) with the created classifier"
   ]
  },
  {
   "cell_type": "code",
   "execution_count": 19,
   "metadata": {},
   "outputs": [],
   "source": [
    "mol_all_vois = pd.read_csv(\"VOI_MOTOR.csv\")"
   ]
  },
  {
   "cell_type": "code",
   "execution_count": 20,
   "metadata": {},
   "outputs": [],
   "source": [
    "mol_pre_vois = mol_all_vois[mol_all_vois.post==0]\n",
    "mol_post_vois = mol_all_vois[mol_all_vois.post==1]"
   ]
  },
  {
   "cell_type": "code",
   "execution_count": 21,
   "metadata": {},
   "outputs": [],
   "source": [
    "short_post_vois = mol_post_vois[mol_post_vois.group==\"S\"]\n",
    "mps_f_gm = short_post_vois[short_post_vois.fq==\"f\"].GM.values\n",
    "mps_f_fa = short_post_vois[short_post_vois.fq==\"f\"].FA.values\n",
    "mps_q_gm = short_post_vois[short_post_vois.fq==\"q\"].GM.values\n",
    "mps_q_fa = short_post_vois[short_post_vois.fq==\"q\"].FA.values\n",
    "molps_f=[[gm,fa] for gm,fa in zip(mps_f_gm,mps_f_fa)]\n",
    "molps_q=[[gm,fa] for gm,fa in zip(mps_q_gm,mps_q_fa)]"
   ]
  },
  {
   "cell_type": "code",
   "execution_count": 22,
   "metadata": {},
   "outputs": [
    {
     "data": {
      "image/png": "[encoded data removed]",
      "text/plain": [
       "<Figure size 432x288 with 1 Axes>"
      ]
     },
     "metadata": {
      "needs_background": "light"
     },
     "output_type": "display_data"
    }
   ],
   "source": [
    "x1, x2 = np.transpose(np.array(molps_f))\n",
    "plot(x1,x2,'b^')\n",
    "x1, x2 = np.transpose(np.array(molps_q))\n",
    "plot(x1,x2,'rv')\n",
    "x1 = np.linspace(-2,6,1000)\n",
    "x2 = [f(x,a,b) for x in x1]\n",
    "plot(x1,x2,'g-')\n",
    "xlim(np.min(short_post_vois.GM)-0.05,np.max(short_post_vois.GM)+0.05)\n",
    "ylim(np.min(short_post_vois.FA)-0.05,np.max(short_post_vois.FA)+0.05)\n",
    "show()"
   ]
  },
  {
   "cell_type": "markdown",
   "metadata": {},
   "source": [
    "## Predict MOL(post - Long) with the created classifier"
   ]
  },
  {
   "cell_type": "code",
   "execution_count": 23,
   "metadata": {},
   "outputs": [],
   "source": [
    "long_post_vois = mol_post_vois[mol_post_vois.group==\"L\"]\n",
    "mpl_f_gm = long_post_vois[long_post_vois.fq==\"f\"].GM.values\n",
    "mpl_f_fa = long_post_vois[long_post_vois.fq==\"f\"].FA.values\n",
    "mpl_q_gm = long_post_vois[long_post_vois.fq==\"q\"].GM.values\n",
    "mpl_q_fa = long_post_vois[long_post_vois.fq==\"q\"].FA.values\n",
    "molpl_f=[[gm,fa] for gm,fa in zip(mpl_f_gm,mpl_f_fa)]\n",
    "molpl_q=[[gm,fa] for gm,fa in zip(mpl_q_gm,mpl_q_fa)]"
   ]
  },
  {
   "cell_type": "code",
   "execution_count": 24,
   "metadata": {},
   "outputs": [
    {
     "data": {
      "image/png": "[encoded data removed]",
      "text/plain": [
       "<Figure size 432x288 with 1 Axes>"
      ]
     },
     "metadata": {
      "needs_background": "light"
     },
     "output_type": "display_data"
    }
   ],
   "source": [
    "x1, x2 = np.transpose(np.array(molpl_f))\n",
    "plot(x1,x2,'b^')\n",
    "x1, x2 = np.transpose(np.array(molpl_q))\n",
    "plot(x1,x2,'rv')\n",
    "x1 = np.linspace(-2,6,1000)\n",
    "x2 = [f(x,a,b) for x in x1]\n",
    "plot(x1,x2,'g-')\n",
    "xlim(np.min(long_post_vois.GM)-0.05,np.max(long_post_vois.GM)+0.05)\n",
    "ylim(np.min(long_post_vois.FA)-0.05,np.max(long_post_vois.FA)+0.05)\n",
    "show()"
   ]
  },
  {
   "cell_type": "code",
   "execution_count": null,
   "metadata": {},
   "outputs": [],
   "source": []
  },
  {
   "cell_type": "markdown",
   "metadata": {},
   "source": [
    "## leave one out (Hanoi)"
   ]
  },
  {
   "cell_type": "code",
   "execution_count": 25,
   "metadata": {},
   "outputs": [],
   "source": [
    "hanoi_vois=vois[vois.Hanoi==1]"
   ]
  },
  {
   "cell_type": "code",
   "execution_count": 26,
   "metadata": {},
   "outputs": [
    {
     "name": "stdout",
     "output_type": "stream",
     "text": [
      "Accuracy:0.8250000000000003\n",
      "Precision:0.7999999999999997\n",
      "Recall:0.8421052631578949\n",
      "True_Negative_Rate:0.8095238095238095\n",
      "False_Negative_Rate:0.1578947368421052\n",
      "False_Positive_Rate:0.1904761904761904\n"
     ]
    }
   ],
   "source": [
    "F_dict={\"Accuracy\":list(),\n",
    "        \"Precision\":list(),\n",
    "        \"Recall\":list(),\n",
    "        \"True_Negative_Rate\":list(),\n",
    "        \"False_Negative_Rate\":list(),\n",
    "        \"False_Positive_Rate\":list()}\n",
    "for i in range(len(hanoi_vois)):\n",
    "    vois_sub = pd.concat([hanoi_vois[0:i],hanoi_vois[i+1:len(hanoi_vois)]])\n",
    "    \n",
    "    a_sub,b_sub=make_fisher(vois_sub)\n",
    "    \n",
    "    pre_fa_sub=list(map(lambda x:f(x,a_sub,b_sub) ,vois_sub.GM.values))\n",
    "    test_fa_sub=list(vois_sub.FA.values)\n",
    "    test_fq_sub=list(vois_sub.fq.values)\n",
    "    \n",
    "    Accuracy,Precision,\\\n",
    "    Recall,True_Negative_Rate,\\\n",
    "    False_Negative_Rate,False_Positive_Rate=F_measure(mol_test_fa,mol_pre_fa,mol_test_fq)\n",
    "    F_dict[\"Accuracy\"].append(Accuracy)\n",
    "    F_dict[\"Precision\"].append(Precision)\n",
    "    F_dict[\"Recall\"].append(Recall)\n",
    "    F_dict[\"True_Negative_Rate\"].append(True_Negative_Rate)\n",
    "    F_dict[\"False_Negative_Rate\"].append(False_Negative_Rate)\n",
    "    F_dict[\"False_Positive_Rate\"].append(False_Positive_Rate)\n",
    "for key in F_dict.keys():\n",
    "    print(\"{0}:{1}\".format(key,np.average(F_dict[key])))"
   ]
  },
  {
   "cell_type": "code",
   "execution_count": null,
   "metadata": {},
   "outputs": [],
   "source": []
  },
  {
   "cell_type": "markdown",
   "metadata": {},
   "source": [
    "## cross validation (ALL data)"
   ]
  },
  {
   "cell_type": "code",
   "execution_count": 27,
   "metadata": {},
   "outputs": [
    {
     "name": "stdout",
     "output_type": "stream",
     "text": [
      "Accuracy:0.8990465116279069\n",
      "Precision:0.9079648262508934\n",
      "Recall:0.8904242593410496\n",
      "True_Negative_Rate:0.9077489612232917\n",
      "False_Negative_Rate:0.10957574065895041\n",
      "False_Positive_Rate:0.09225103877670823\n"
     ]
    }
   ],
   "source": [
    "F_dict={\"Accuracy\":list(),\n",
    "        \"Precision\":list(),\n",
    "        \"Recall\":list(),\n",
    "        \"True_Negative_Rate\":list(),\n",
    "        \"False_Negative_Rate\":list(),\n",
    "        \"False_Positive_Rate\":list()}\n",
    "\n",
    "for xxx in range(1000):\n",
    "    df_test = vois.sample(int(len(vois)*3/10))\n",
    "    train_index = [False if i in df_test.index else True for i in range(len(vois))]\n",
    "    df_train=vois[train_index]\n",
    "    \n",
    "    a,b=make_fisher(df_train)\n",
    "\n",
    "    pre_fa=list(map(lambda x:f(x,a,b) ,df_test.GM.values))\n",
    "    test_fa=list(df_test.FA.values)\n",
    "    test_fq=list(df_test.fq.values)\n",
    "\n",
    "    Accuracy,Precision,\\\n",
    "    Recall,True_Negative_Rate,\\\n",
    "    False_Negative_Rate,False_Positive_Rate=F_measure(test_fa,pre_fa,test_fq)\n",
    "\n",
    "    F_dict[\"Accuracy\"].append(Accuracy)\n",
    "    F_dict[\"Precision\"].append(Precision)\n",
    "    F_dict[\"Recall\"].append(Recall)\n",
    "    F_dict[\"True_Negative_Rate\"].append(True_Negative_Rate)\n",
    "    F_dict[\"False_Negative_Rate\"].append(False_Negative_Rate)\n",
    "    F_dict[\"False_Positive_Rate\"].append(False_Positive_Rate)\n",
    "\n",
    "for key in F_dict.keys():\n",
    "    print(\"{0}:{1}\".format(key,np.average(F_dict[key])))"
   ]
  },
  {
   "cell_type": "code",
   "execution_count": null,
   "metadata": {},
   "outputs": [],
   "source": []
  },
  {
   "cell_type": "markdown",
   "metadata": {},
   "source": [
    "## cross validation (Hanoi)"
   ]
  },
  {
   "cell_type": "code",
   "execution_count": 28,
   "metadata": {},
   "outputs": [
    {
     "name": "stdout",
     "output_type": "stream",
     "text": [
      "Accuracy:0.880777777777778\n",
      "Precision:0.8638277722277722\n",
      "Recall:0.9168617854367854\n",
      "True_Negative_Rate:0.8433816461316462\n",
      "False_Negative_Rate:0.08313821456321456\n",
      "False_Positive_Rate:0.15661835386835388\n"
     ]
    }
   ],
   "source": [
    "hanoi_vois=vois[vois.Hanoi==1]\n",
    "\n",
    "F_dict={\"Accuracy\":list(),\n",
    "        \"Precision\":list(),\n",
    "        \"Recall\":list(),\n",
    "        \"True_Negative_Rate\":list(),\n",
    "        \"False_Negative_Rate\":list(),\n",
    "        \"False_Positive_Rate\":list()}\n",
    "\n",
    "for xxx in range(1000):\n",
    "    df_test = hanoi_vois.sample(int(len(hanoi_vois)*3/10))\n",
    "    train_index = [False if i in df_test.index else True for i in range(len(hanoi_vois))]\n",
    "    df_train=hanoi_vois[train_index]\n",
    "    \n",
    "    a,b=make_fisher(df_train)\n",
    "\n",
    "    pre_fa=list(map(lambda x:f(x,a,b) ,df_test.GM.values))\n",
    "    test_fa=list(df_test.FA.values)\n",
    "    test_fq=list(df_test.fq.values)\n",
    "\n",
    "    Accuracy,Precision,\\\n",
    "    Recall,True_Negative_Rate,\\\n",
    "    False_Negative_Rate,False_Positive_Rate=F_measure(test_fa,pre_fa,test_fq)\n",
    "\n",
    "    F_dict[\"Accuracy\"].append(Accuracy)\n",
    "    F_dict[\"Precision\"].append(Precision)\n",
    "    F_dict[\"Recall\"].append(Recall)\n",
    "    F_dict[\"True_Negative_Rate\"].append(True_Negative_Rate)\n",
    "    F_dict[\"False_Negative_Rate\"].append(False_Negative_Rate)\n",
    "    F_dict[\"False_Positive_Rate\"].append(False_Positive_Rate)\n",
    "\n",
    "for key in F_dict.keys():\n",
    "    print(\"{0}:{1}\".format(key,np.average(F_dict[key])))"
   ]
  },
  {
   "cell_type": "code",
   "execution_count": null,
   "metadata": {},
   "outputs": [],
   "source": []
  }
 ],
 "metadata": {
  "anaconda-cloud": {},
  "kernelspec": {
   "display_name": "Python 3",
   "language": "python",
   "name": "python3"
  },
  "language_info": {
   "codemirror_mode": {
    "name": "ipython",
    "version": 3
   },
   "file_extension": ".py",
   "mimetype": "text/x-python",
   "name": "python",
   "nbconvert_exporter": "python",
   "pygments_lexer": "ipython3",
   "version": "3.7.3"
  }
 },
 "nbformat": 4,
 "nbformat_minor": 1
}
